{
 "cells": [
  {
   "cell_type": "code",
   "execution_count": null,
   "id": "502d0421-7edf-41a4-a9b8-96691532f10e",
   "metadata": {},
   "outputs": [],
   "source": [
    "#2. Write a basic function to greet student\n",
    "def greet_student(name):\n",
    "    print(f\"Hello, {name} ! welcome to the Class\")\n",
    "greet_student(\"Soumyajit\")  "
   ]
  },
  {
   "cell_type": "code",
   "execution_count": null,
   "id": "cc3def78-3a06-42e3-826e-510072f20a4a",
   "metadata": {},
   "outputs": [],
   "source": [
    "#6.Write a code that generates the squares of numbers from 1 to n using a generator.\n",
    "def square_number(n):\n",
    "    for i in range(1,n+1):\n",
    "        yield i*i\n",
    "a=int(input(\"Enter the n Value= \"))\n",
    "gen=square_number(a)\n",
    "list(gen)"
   ]
  },
  {
   "cell_type": "code",
   "execution_count": null,
   "id": "743ccdf0-212c-4add-b4f9-382f59972919",
   "metadata": {},
   "outputs": [],
   "source": [
    "#7.Write a code that generates palindromic numbers up to n using a generator.\n",
    "def check_palindrom(n):\n",
    "    for i in range(n+1):\n",
    "        if str(i)==str(i)[::-1]:\n",
    "            yield i\n",
    "a=int(input(\"Enter the n Value= \"))\n",
    "pal=check_palindrom(a)\n",
    "list(pal)"
   ]
  },
  {
   "cell_type": "code",
   "execution_count": null,
   "id": "3d33b025-1b71-4f7e-9c05-c1b7f275bed4",
   "metadata": {},
   "outputs": [],
   "source": [
    "#8.Write a code that generates even numbers from 2 to n using a generator.\n",
    "def even_number(n):\n",
    "    for i in range(n+1):\n",
    "        if i%2==0:\n",
    "            yield i\n",
    "a=int(input(\"Enter the n Value= \"))\n",
    "ev=even_number(a)\n",
    "list(ev)"
   ]
  },
  {
   "cell_type": "code",
   "execution_count": null,
   "id": "77b4c181-e330-4153-962c-4821d9d4c0ff",
   "metadata": {},
   "outputs": [],
   "source": [
    "#9.Write a code that generates powers of two up to n using a generator.\n",
    "def power_num(n):\n",
    "    for i in range(n+1):\n",
    "        yield i**2\n",
    "a=int(input(\"Enter the n Value= \"))\n",
    "po=power_num(a)\n",
    "list(po)"
   ]
  },
  {
   "cell_type": "code",
   "execution_count": null,
   "id": "4f1c23a0-efa8-4c14-88fc-4ea66baca826",
   "metadata": {},
   "outputs": [],
   "source": [
    "#10.Write a code that generates prime numbers up to n using a generator.\n",
    "def prime_num(n):\n",
    "    for i in range(2,n+1):\n",
    "        is_prime=True\n",
    "        for j in range(2,i):\n",
    "            if i%j==0:\n",
    "                is_prime=False\n",
    "                break\n",
    "        if is_prime==True:\n",
    "            yield i\n",
    "a=int(input(\"Enter the value of n= \"))\n",
    "pr=prime_num(a)\n",
    "list(pr)"
   ]
  },
  {
   "cell_type": "code",
   "execution_count": null,
   "id": "448cd2ad-1903-4b08-ba8e-4ef4bfe3c0e5",
   "metadata": {},
   "outputs": [],
   "source": [
    "#11.Write a code that uses a lambda function to calculate the sum of Two Numbers.\n",
    "add=lambda x,y:x+y\n",
    "a=int(input(\"Enter the 1st Number= \"))\n",
    "b=int(input(\"Enter the 2nd Number= \"))\n",
    "print(\"Sum of Two NUmber = \",add(a,b))"
   ]
  },
  {
   "cell_type": "code",
   "execution_count": null,
   "id": "586788ac-66b2-40a0-a3f9-f98286ca8e63",
   "metadata": {},
   "outputs": [],
   "source": [
    "#12.Write a code that uses a lambda function to calculate square of a given number.\n",
    "square=lambda x:x**2\n",
    "a=int(input(\"Enter the Number= \"))\n",
    "print(\"Square of the Number= \",square(a))"
   ]
  },
  {
   "cell_type": "code",
   "execution_count": null,
   "id": "7df0a276-602a-4f90-8c98-4621b8365c60",
   "metadata": {},
   "outputs": [],
   "source": [
    "#13.Write a code that uses a lambda function to check given number is even or odd.\n",
    "check= lambda x:1 if x%2==0 else 0\n",
    "a=int(input(\"Enter the Number= \"))\n",
    "c=check(a)\n",
    "if c==1:\n",
    "    print(\"Given number is Even\")\n",
    "else:\n",
    "    print(\"Given numebr is Odd\")"
   ]
  },
  {
   "cell_type": "code",
   "execution_count": null,
   "id": "6b48e7fe-a17b-47f7-b6c6-dcae7b088f19",
   "metadata": {},
   "outputs": [],
   "source": [
    "#15.Write a code that uses a lambda function to concatenate of two strings.\n",
    "concate=lambda x,y:x+y\n",
    "a=input(\"Enter the 1st String= \")\n",
    "b=input(\"Enter the 2nd String= \")\n",
    "print(concate(a,b))"
   ]
  },
  {
   "cell_type": "code",
   "execution_count": null,
   "id": "bf57e424-7638-43cd-9112-660a1922a9d6",
   "metadata": {},
   "outputs": [],
   "source": [
    "#16.Write a code that uses a lambda function to find the maximum among three number\n",
    "max=lambda x,y,z:x if x>y and x>z else y if y>x and y>z else z\n",
    "a=int(input(\"Enter the 1st Number= \"))\n",
    "b=int(input(\"Enter the 2nd Number= \"))\n",
    "c=int(input(\"Enter the 3rd Number= \"))\n",
    "max(a,b,c)"
   ]
  },
  {
   "cell_type": "code",
   "execution_count": null,
   "id": "a5bb8862-bd6a-471f-b362-0ae8830feeaa",
   "metadata": {},
   "outputs": [],
   "source": [
    "#17.Write a code that generates the squares of even numbers from a given list.\n",
    "list1=[]\n",
    "a=int(input(\"Enter how many number you want to put= \"))\n",
    "for i in range(a):\n",
    "    n=int(input(f\"Enter {i+1} number= \"))\n",
    "    list1.append(n)\n",
    "list2=[]\n",
    "for i in list1:\n",
    "    if i%2==0:\n",
    "        list2.append(i**2)\n",
    "print(list2)"
   ]
  },
  {
   "cell_type": "code",
   "execution_count": null,
   "id": "625143de-b105-42fc-8cc9-676fb039149d",
   "metadata": {},
   "outputs": [],
   "source": [
    "#18.Write a code that calculates the product of positive numbers from a given list.\n",
    "from functools import reduce\n",
    "def product(n):\n",
    "    list2=[]\n",
    "    list2=[num for num in n if num>0]\n",
    "    return list2\n",
    "list1=[]\n",
    "a=int(input(\"Enter how many number you want to put= \"))\n",
    "for i in range(a):\n",
    "    n=int(input(f\"Enter {i+1} number= \"))\n",
    "    list1.append(n)\n",
    "list2=product(list1)\n",
    "print(\"Product of Positive Number = \",reduce(lambda x,y:x*y,list2))"
   ]
  },
  {
   "cell_type": "code",
   "execution_count": null,
   "id": "42fc758a-266e-4f12-b444-c3094d6f55c1",
   "metadata": {},
   "outputs": [],
   "source": [
    "#19 Write a code that doubles the values of odd numbers from a given list.\n",
    "from functools import reduce\n",
    "list1=[]\n",
    "a=int(input(\"Enter how many number you want to take= \"))\n",
    "for i in range(a):\n",
    "    n=int(input(f\"Enter {i+1} number= \"))\n",
    "    list1.append(n)\n",
    "list2=[num for num in list1 if num %2!=0]\n",
    "print(\"Doubles of the Odd numbers= \",list(map(lambda x:x*2,list2)))"
   ]
  },
  {
   "cell_type": "code",
   "execution_count": null,
   "id": "7c1acfe3-aeb1-4ad0-b940-6d6006def0f9",
   "metadata": {},
   "outputs": [],
   "source": [
    "#20. Write a code that calculates the sum of cubes of numbers from a given list.\n",
    "from functools import reduce\n",
    "a=int(input(\"Enter how many number you want to take= \"))\n",
    "list1=[]\n",
    "for i in range(a):\n",
    "    n=int(input(f\"Enter {i+1} number= \"))\n",
    "    list1.append(n)\n",
    "list2=list(map(lambda x:x**3,list1))\n",
    "print(\"Sum of Cubes Of Numbers= \",(reduce(lambda x,y:x+y,list2)))"
   ]
  },
  {
   "cell_type": "code",
   "execution_count": null,
   "id": "10083a1b-7df1-479f-a30f-a5c726d8c8ec",
   "metadata": {},
   "outputs": [],
   "source": [
    "#21. Write a code that filters all prime numbers from a given list.\n",
    "def data(a):\n",
    "    list1=[]\n",
    "    for i in range(a):\n",
    "        n=int(input(f\"Enter {i+1} number= \"))\n",
    "        list1.append(n)\n",
    "    return list1\n",
    "def prime(b):\n",
    "    list2=[]\n",
    "    for i in b:\n",
    "        if i>1:\n",
    "            is_prime=True\n",
    "            for j in range(2,i):\n",
    "                if i%j==0:\n",
    "                    is_prime=False\n",
    "            if is_prime==True:\n",
    "                list2.append(i)\n",
    "        else:\n",
    "            print(i,'''=Given Number less than or equal to 1,,This number not consider as a prime number....\n",
    "                        Prime Number start From 2''')\n",
    "    return list2\n",
    "a=int(input(\"Enter how many number you want to take= \"))\n",
    "list1=data(a)\n",
    "list2=prime(list1)\n",
    "print(\"After sorting All Prime Numbers= \",(list2))"
   ]
  },
  {
   "cell_type": "code",
   "execution_count": null,
   "id": "87c3f734-4551-47f8-9ae0-ca7e54b4f86c",
   "metadata": {},
   "outputs": [],
   "source": [
    "#22.Write a code that uses a lambda function to calculate the sum of two numbners.\n",
    "a=int(input(\"Enter the first Number= \"))\n",
    "b=int(input(\"Enter the second Number= \"))\n",
    "sum=lambda x,y:x+y\n",
    "print(\"Sum of two Number= \",sum(a,b))"
   ]
  },
  {
   "cell_type": "code",
   "execution_count": null,
   "id": "e6be7e99-1a63-43c6-a0d4-f9b5d7441d1d",
   "metadata": {},
   "outputs": [],
   "source": [
    "#23.Write a code that uses a lambda function to calculate the square of a given number.\n",
    "a=int(input(\"Enter the Number= \"))\n",
    "square=lambda x:x**2\n",
    "print(\"Square of the Given Number= \",square(a))"
   ]
  },
  {
   "cell_type": "code",
   "execution_count": null,
   "id": "a8932a34-a00d-417b-b34c-7aa452349427",
   "metadata": {},
   "outputs": [],
   "source": [
    "#24.Write a code that uses a lambda function to check wheather a given number is even or not.\n",
    "a=int(input(\"Enter the Number= \"))\n",
    "check=lambda x:1 if x%2==0 else 0\n",
    "if check(a)==1:\n",
    "    print(\"Given Number is Even\")\n",
    "else:\n",
    "    print(\"Given Number is Odd\")"
   ]
  },
  {
   "cell_type": "code",
   "execution_count": null,
   "id": "aff98a73-eb47-4d64-bd36-781778983988",
   "metadata": {},
   "outputs": [],
   "source": [
    "#25.Write a code that uses a lambda function to concatenate two strings.\n",
    "a=str(input(\"Enter the first String= \"+\" \"))\n",
    "b=str(input(\"Enter the second String= \"))\n",
    "con=lambda x,y:x+y\n",
    "con(a,b)"
   ]
  },
  {
   "cell_type": "code",
   "execution_count": null,
   "id": "aa586442-5611-4176-a1db-91765dbe3463",
   "metadata": {},
   "outputs": [],
   "source": [
    "#26.Write a code that uses a lambda function to find the maximum of three given numbers.\n",
    "n1=int(input(\"Enter first NNumber= \"))\n",
    "n2=int(input(\"Enter Second Number= \"))\n",
    "n3=int(input(\"Enter Third Number= \"))\n",
    "max=lambda x,y,z:x if x>y and x>z else y if y>x and y>z else z\n",
    "print(\"Max Number among Three Number= \",max(n1,n2,n3))"
   ]
  },
  {
   "cell_type": "code",
   "execution_count": null,
   "id": "e5a35a63-190b-4d8d-82b8-3c5f6fc1cb9b",
   "metadata": {},
   "outputs": [],
   "source": [
    "#32.Define a parent class animal with a method make_sound that prints \"Generic animal sound\".Create a\n",
    "#child class Dog inheriting from animal with a method make_sound that prints \"Woof!\".\n",
    "\n",
    "class animal:\n",
    "    def make_sound(self):\n",
    "        print(\"Gneneric Animal sound\")\n",
    "class dog(animal):\n",
    "    def make_sound(self):\n",
    "        print(\"Woof!\")\n",
    "obj1=dog()\n",
    "obj1.make_sound()\n",
    "obj2=animal()\n",
    "obj2.make_sound()"
   ]
  },
  {
   "cell_type": "code",
   "execution_count": null,
   "id": "214f3253-b302-4ea2-b249-6f4b98ae7a2d",
   "metadata": {},
   "outputs": [],
   "source": [
    "#33.Define a method move in the animal class that prints \"Animal moves\".\n",
    "#Override the move method in the Dog class to print \"Dog runs\".\n",
    "class Animal:\n",
    "    def Move(self):\n",
    "        print(\"Animal Moves\")\n",
    "class Dog(Animal):\n",
    "    def Move(self):\n",
    "        print(\"Dog Runs\")\n",
    "obj1=Animal()\n",
    "obj1.Move()\n",
    "obj2=Dog()\n",
    "obj2.Move()"
   ]
  },
  {
   "cell_type": "code",
   "execution_count": null,
   "id": "9d08518d-bdad-45d1-b741-03260faea457",
   "metadata": {},
   "outputs": [],
   "source": [
    "#34.Create a class Mammal with a method reproduce that prints \"Giving birth to live young.\" Create a class \n",
    "#DogMammal inheriting from both Dog and Mammal.\n",
    "class Mammal:\n",
    "    def reproduce(self):\n",
    "        print(\"Giving birth to live young\")\n",
    "class Dog:\n",
    "    def life(self):\n",
    "        print(\"Dog's Life is 10-13 Years\")\n",
    "class DogMammal(Mammal,Dog):\n",
    "    def about(self):\n",
    "        print(\"Dogs is a Mammal\")\n",
    "obj1=Mammal()\n",
    "obj1.reproduce()\n",
    "obj1=DogMammal()\n",
    "obj1.about()\n",
    "obj1=Dog()\n",
    "obj1.life()"
   ]
  },
  {
   "cell_type": "code",
   "execution_count": null,
   "id": "3c7d77c5-b90f-4c6b-82b3-fb1e9d3a754c",
   "metadata": {},
   "outputs": [],
   "source": [
    "#35. Create a class GermanShepherd inheriting from Dog and override the make_sound method to print\"Bark!.\n",
    "class Dog:\n",
    "    def make_sound(self):\n",
    "        print(\"Dog's Sound\")\n",
    "class GermanShepherd(Dog):\n",
    "    def make_sound(self):\n",
    "        print(\"Bark!\")\n",
    "obj1=Dog()\n",
    "obj1.make_sound()\n",
    "obj1=GermanShepherd()\n",
    "obj1.make_sound()"
   ]
  },
  {
   "cell_type": "code",
   "execution_count": null,
   "id": "619cd714-7f55-4149-b02d-9198e4f6c170",
   "metadata": {},
   "outputs": [],
   "source": [
    "#36. Define constructors in both the Animal and Dog classes with different initialization parameters.\n",
    "class Animal:\n",
    "    def __init__(self,n):\n",
    "        self.n=n\n",
    "    def show(self):\n",
    "        print(\"Animal type is a\",self.n)\n",
    "class Dog:\n",
    "    def __init__(self,m):\n",
    "        self.m=m\n",
    "    def display(self):\n",
    "        print(\"Dog's Sound \",self.m)\n",
    "obj1=Animal(\"Dog\")\n",
    "obj1.show()\n",
    "obj2=Dog(\"Bark!\")\n",
    "obj2.display()"
   ]
  },
  {
   "cell_type": "code",
   "execution_count": null,
   "id": "21836957-d6a2-4352-ab87-63c48adb2997",
   "metadata": {},
   "outputs": [],
   "source": [
    "#41. Can you provide an example of how abstraction can be utilized to create a common    interface for a group of related classes in Python? \n",
    "\n",
    "from abc import ABC, abstractmethod\n",
    "import math\n",
    "# Abstract class acting as an interface\n",
    "class Shape(ABC):\n",
    "    @abstractmethod\n",
    "    def area(self):\n",
    "        pass\n",
    "# Concrete class for Circle\n",
    "class Circle(Shape):\n",
    "    def __init__(self, radius):\n",
    "        self.radius = radius\n",
    "    \n",
    "    def area(self):\n",
    "        return math.pi * self.radius ** 2\n",
    "# Concrete class for Rectangle\n",
    "class Rectangle(Shape):\n",
    "    def __init__(self, width, height):\n",
    "        self.width = width\n",
    "        self.height = height    \n",
    "    def area(self):\n",
    "        return self.width * self.height\n",
    "# Concrete class for Triangle\n",
    "class Triangle(Shape):\n",
    "    def __init__(self, base, height):\n",
    "        self.base = base\n",
    "        self.height = height    \n",
    "    def area(self):\n",
    "        return 0.5 * self.base * self.height\n",
    "# Utilizing the common interface\n",
    "shapes = [Circle(5), Rectangle(4, 6), Triangle(3, 7)]\n",
    "for shape in shapes:\n",
    "    print(f\"The area is: {shape.area()}\")"
   ]
  },
  {
   "cell_type": "code",
   "execution_count": null,
   "id": "71f4bf88-88c5-44c1-ad5a-52ea1e3ed664",
   "metadata": {},
   "outputs": [],
   "source": [
    "#43. Define a base class with a method and a subclass that overrides the method.\n",
    "class Animal:\n",
    "    def sound(self):\n",
    "        print(\"Animal Sound\")\n",
    "class cat(Animal):\n",
    "    def sound(self):\n",
    "        print(\"Meow!\")\n",
    "c=cat()\n",
    "c.sound()"
   ]
  },
  {
   "cell_type": "code",
   "execution_count": null,
   "id": "0f2fa7ff-ccfa-4513-bca6-b111a953652b",
   "metadata": {},
   "outputs": [],
   "source": [
    "#44.Define a base class and multiple subclasses with overridden methods.\n",
    "class Animal:\n",
    "    def sound(self):\n",
    "        print(\"Animal Sound\")\n",
    "class Dog(Animal):\n",
    "    def sound(self):\n",
    "        print(\"Dogs Sound Bark!\")\n",
    "class cat(Animal):\n",
    "    def sound(self):\n",
    "        print(\"Cat sound Meow!\")\n",
    "c=cat()\n",
    "c.sound()\n",
    "d=Dog()\n",
    "d.sound()"
   ]
  },
  {
   "cell_type": "code",
   "execution_count": null,
   "id": "4513d190-e880-45fd-a1c5-6387a8a8de9d",
   "metadata": {},
   "outputs": [],
   "source": [
    "#49. Implement a class BankAccount with a private balance \n",
    "#Include methods to deposit , withdraw, and check the balance\n",
    "class BankAccount:\n",
    "    def __init__(self,balance):\n",
    "        self.__Balance=balance\n",
    "    def deposite(self):\n",
    "        n=float(input(\"How much money you want to deposite= \"))\n",
    "        self.__Balance=self.__Balance+n\n",
    "    def withdraw(self):\n",
    "        w=float(input(\"How much money you want to withdraw\"))\n",
    "        self.__Balance=self.__Balance-w\n",
    "    def check_the_Balance(self):\n",
    "        print(\"Total Balance= \",self.__Balance)\n",
    "tran1=BankAccount(10000)\n",
    "tran1.check_the_Balance()\n",
    "tran1.deposite()\n",
    "tran1.check_the_Balance()\n",
    "tran1.withdraw()\n",
    "tran1.check_the_Balance()        "
   ]
  },
  {
   "cell_type": "code",
   "execution_count": null,
   "id": "24f2279a-5ac2-40f1-9b4f-898166750042",
   "metadata": {},
   "outputs": [],
   "source": [
    "#50.Develop a Person class with private attributes name and email, and methods to set and get the email.\n",
    "class person:\n",
    "    def __init__(self,name,email):\n",
    "        self.__name=name\n",
    "        self.__email=email\n",
    "    def set_email(self,email):\n",
    "        self.__email=email\n",
    "    def get_email(self):\n",
    "        return self.__email\n",
    "    def get_name(self):\n",
    "        print(\"Name is = \",self.__name)\n",
    "p1=person(\"Soumya\",\"soumyajit8695@gamil.com\")\n",
    "print(\"Before set any email= \",p1.get_email())\n",
    "p1.set_email(\"soumyajit23@gmail.com\")\n",
    "p1.get_name()\n",
    "print(\"After set the email= \",p1.get_email())  "
   ]
  },
  {
   "cell_type": "code",
   "execution_count": null,
   "id": "c101d5b4-0875-41c6-85d9-82f0c6c66a9c",
   "metadata": {},
   "outputs": [],
   "source": [
    "#52.Create a decorator in Python that adds functionality to a simple function by printing a message before \n",
    "#and after the function execution.\n",
    "def my_decorater(func):\n",
    "    def wrap():\n",
    "        print(\"Before the function\\n\")\n",
    "        func()\n",
    "        print(\"\\nAfter the function\")\n",
    "    return wrap\n",
    "@my_decorater\n",
    "def message():\n",
    "    print(\"HELLO\")\n",
    "message()"
   ]
  },
  {
   "cell_type": "code",
   "execution_count": null,
   "id": "6abd052e-7bfb-47ab-b052-e082eb2f6408",
   "metadata": {},
   "outputs": [],
   "source": [
    "#53.Modify the decorator to accept arguments and print the function name along with the message.\n",
    "def my_decorator(message):\n",
    "    def decorator(func):\n",
    "        def wrap():\n",
    "            print(f\"Before the function '{func.__name__}': {message}\\n\")\n",
    "            func()\n",
    "            print(f\"\\nAfter the function '{func.__name__}'\")\n",
    "        return wrap\n",
    "    return decorator\n",
    "@my_decorator(\"This is a custom message\")\n",
    "def message():\n",
    "    print(\"HELLO\")\n",
    "message()"
   ]
  },
  {
   "cell_type": "code",
   "execution_count": null,
   "id": "c82ee073-bb5a-425a-a84d-faeda4e38a7d",
   "metadata": {},
   "outputs": [],
   "source": [
    "#54. Create two decorators, and apply them to a single function.\n",
    "#Ensure that they execute in the order they are applied.\n",
    "def decorator_one(func):\n",
    "    def wrap():\n",
    "        print(\"Decorator One: Before the function\")\n",
    "        func()\n",
    "        print(\"Decorator One: After the function\")\n",
    "    return wrap\n",
    "def decorator_two(func):\n",
    "    def wrap():\n",
    "        print(\"Decorator Two: Before the function\")\n",
    "        func()\n",
    "        print(\"Decorator Two: After the function\")\n",
    "    return wrap\n",
    "@decorator_one\n",
    "@decorator_two\n",
    "def message():\n",
    "    print(\"Hiiii,Soumya\")\n",
    "message()"
   ]
  },
  {
   "cell_type": "code",
   "execution_count": null,
   "id": "e5713e52-de5b-4bbb-b55c-1b312781f041",
   "metadata": {},
   "outputs": [],
   "source": [
    "#55.Modify the decorator to accept and pass function arguments to the wrapped function.\n",
    "def my_decorator(message):\n",
    "    def decorator(func):\n",
    "        def wrap(name, greeting):  # Explicitly handle specific arguments\n",
    "            print(f\"Before the function '{func.__name__}': {message}\")\n",
    "            func(name, greeting)  # Pass arguments to the wrapped function\n",
    "            print(f\"After the function '{func.__name__}'\")\n",
    "        return wrap\n",
    "    return decorator\n",
    "@my_decorator(\"This is a custom message\")\n",
    "def greet(name, greeting):\n",
    "    print(f\"{greeting}, {name}!\")\n",
    "greet(\"Soumya\", \"Hello\")"
   ]
  },
  {
   "cell_type": "code",
   "execution_count": null,
   "id": "4cb7fb06-f2ab-4202-8e73-c2ace55ec63a",
   "metadata": {},
   "outputs": [],
   "source": [
    "#56.Create a decorator that preserves the metadata of the original function.\n",
    "from functools import wraps\n",
    "\n",
    "def my_decorator(message):\n",
    "    def decorator(func):\n",
    "        @wraps(func)  # Preserve the original function's metadata\n",
    "        def wrap(name, greeting):  # Explicitly handle specific arguments\n",
    "            print(f\"Before the function '{func.__name__}': {message}\")\n",
    "            result = func(name, greeting)  # Call the original function\n",
    "            print(f\"After the function '{func.__name__}'\")\n",
    "            return result\n",
    "        return wrap\n",
    "    return decorator\n",
    "@my_decorator(\"This is a custom message\")\n",
    "def greet(name, greeting):\n",
    "    \"\"\"Greets a person with a given greeting.\"\"\"\n",
    "    print(f\"{greeting}, {name}!\")\n",
    "print(f\"Function Name: {greet.__name__}\")\n",
    "print(f\"Function Docstring: {greet.__doc__}\")\n",
    "greet(\"Soumyajit\", \"Hello\")"
   ]
  },
  {
   "cell_type": "code",
   "execution_count": null,
   "id": "e5f49bdd-c696-4ba4-b45c-422043885be8",
   "metadata": {},
   "outputs": [],
   "source": [
    "#57.Create a Python class `Calculator` with a static method `add` that takes in two numbers and returns\n",
    "#their sum.\n",
    "class Calculator:\n",
    "    @staticmethod\n",
    "    def add(x, y):\n",
    "        \"\"\"Returns the sum of two numbers.\"\"\"\n",
    "        return x + y\n",
    "x=float(input(\"Enter first number= \"))\n",
    "y=float(input(\"Enter second number= \"))\n",
    "result = Calculator.add(x, y)\n",
    "print(f\"The sum is: {result}\")"
   ]
  },
  {
   "cell_type": "code",
   "execution_count": null,
   "id": "a43d092b-5080-49fe-8710-ef3f3c724d73",
   "metadata": {},
   "outputs": [],
   "source": [
    "#58.Create a Python class `Employee` with a class `method get_employee_count` that returns the total number of employees created.\n",
    "class Employee:\n",
    "    _employee_count = 0  #Class variable to keep track of the number of employees\n",
    "    def __init__(self, name):\n",
    "        self.name = name\n",
    "        Employee._employee_count += 1  # Increment the employee count when a new employee is created\n",
    "    @classmethod\n",
    "    def get_employee_count(cls):\n",
    "        \"\"\"Returns the total number of employees created.\"\"\"\n",
    "        return cls._employee_count\n",
    "emp1 = Employee(\"Soumyajit\")\n",
    "emp2 = Employee(\"Habibi\")\n",
    "#Get the total number of employees\n",
    "print(f\"Total number of employees: {Employee.get_employee_count()}\")"
   ]
  },
  {
   "cell_type": "code",
   "execution_count": null,
   "id": "1551a129-77c7-4f08-b73a-82b2c2a141ac",
   "metadata": {},
   "outputs": [],
   "source": [
    "#59. Create a Python class `StringFormatter` with a static method `reverse_string` \n",
    "#that takes a string as input and returns its reverse.\n",
    "class StringFormatter:\n",
    "    @staticmethod\n",
    "    def reverse_string(s):\n",
    "        \"\"\"Returns the reverse of the input string.\"\"\"\n",
    "        return s[::-1]\n",
    "n=str(input(\"Enter a string= \"))\n",
    "reversed_string = StringFormatter.reverse_string(n)\n",
    "print(f\"Original string: {n}\")\n",
    "print(f\"Reversed string: {reversed_string}\")"
   ]
  },
  {
   "cell_type": "code",
   "execution_count": null,
   "id": "7912e3c5-67dd-4d44-a4fb-cfe02f2326b2",
   "metadata": {},
   "outputs": [],
   "source": [
    "#60.Create a Python class `Circle` with a class method `calculate_area` that calculates \n",
    "#the area of a circle given its radius\n",
    "import math\n",
    "\n",
    "class Circle:\n",
    "    @classmethod\n",
    "    def calculate_area(cls, radius):\n",
    "        \"\"\"Calculates the area of a circle given its radius.\"\"\"\n",
    "        if radius < 0:\n",
    "            raise ValueError(\"Radius cannot be negative.\")\n",
    "        return math.pi * (radius ** 2)\n",
    "r=float(input(\"Enter the radius= \"))\n",
    "area = Circle.calculate_area(r)\n",
    "print(f\"The area of the circle with radius {r} is: {area:.2f}\")"
   ]
  },
  {
   "cell_type": "code",
   "execution_count": null,
   "id": "0467e663-d980-446b-be8b-04df9ea881e7",
   "metadata": {},
   "outputs": [],
   "source": [
    "#61.Create a Python class `TemperatureConverter` with a static method `celsius_to_fahrenheit` that converts \n",
    "#Celsius to Fahrenheit\n",
    "class TemperatureConverter:\n",
    "    @staticmethod\n",
    "    def celsius_to_fahrenheit(celsius):\n",
    "        return (celsius * 9/5) + 32\n",
    "celsius_temp = float(input(\"Enter the temparature in celsius= \"))\n",
    "fahrenheit_temp = TemperatureConverter.celsius_to_fahrenheit(celsius_temp)\n",
    "print(f\"{celsius_temp}°C is equal to {fahrenheit_temp}°F\")"
   ]
  },
  {
   "cell_type": "code",
   "execution_count": null,
   "id": "038e053f-e4f8-4c6b-9223-5efcdc94b7ac",
   "metadata": {},
   "outputs": [],
   "source": []
  }
 ],
 "metadata": {
  "kernelspec": {
   "display_name": "Python 3 (ipykernel)",
   "language": "python",
   "name": "python3"
  },
  "language_info": {
   "codemirror_mode": {
    "name": "ipython",
    "version": 3
   },
   "file_extension": ".py",
   "mimetype": "text/x-python",
   "name": "python",
   "nbconvert_exporter": "python",
   "pygments_lexer": "ipython3",
   "version": "3.10.8"
  }
 },
 "nbformat": 4,
 "nbformat_minor": 5
}
